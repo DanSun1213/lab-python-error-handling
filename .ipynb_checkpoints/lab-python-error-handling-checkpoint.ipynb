{
 "cells": [
  {
   "cell_type": "markdown",
   "id": "25d7736c-ba17-4aff-b6bb-66eba20fbf4e",
   "metadata": {},
   "source": [
    "# Lab | Error Handling"
   ]
  },
  {
   "cell_type": "markdown",
   "id": "bc99b386-7508-47a0-bcdb-d969deaf6c8b",
   "metadata": {},
   "source": [
    "## Exercise: Error Handling for Managing Customer Orders\n",
    "\n",
    "The implementation of your code for managing customer orders assumes that the user will always enter a valid input. \n",
    "\n",
    "For example, we could modify the `initialize_inventory` function to include error handling.\n",
    "   - If the user enters an invalid quantity (e.g., a negative value or a non-numeric value), display an error message and ask them to re-enter the quantity for that product.\n",
    "   - Use a try-except block to handle the error and continue prompting the user until a valid quantity is entered.\n",
    "\n",
    "```python\n",
    "# Step 1: Define the function for initializing the inventory with error handling\n",
    "def initialize_inventory(products):\n",
    "    inventory = {}\n",
    "    for product in products:\n",
    "        valid_quantity = False\n",
    "        while not valid_quantity:\n",
    "            try:\n",
    "                quantity = int(input(f\"Enter the quantity of {product}s available: \"))\n",
    "                if quantity < 0:\n",
    "                    raise ValueError(\"Invalid quantity! Please enter a non-negative value.\")\n",
    "                valid_quantity = True\n",
    "            except ValueError as error:\n",
    "                print(f\"Error: {error}\")\n",
    "        inventory[product] = quantity\n",
    "    return inventory\n",
    "\n",
    "# Or, in another way:\n",
    "\n",
    "def initialize_inventory(products):\n",
    "    inventory = {}\n",
    "    for product in products:\n",
    "        valid_input = False\n",
    "        while not valid_input:\n",
    "            try:\n",
    "                quantity = int(input(f\"Enter the quantity of {product}s available: \"))\n",
    "                if quantity >= 0:\n",
    "                    inventory[product] = quantity\n",
    "                    valid_input = True\n",
    "                else:\n",
    "                    print(\"Quantity cannot be negative. Please enter a valid quantity.\")\n",
    "            except ValueError:\n",
    "                print(\"Invalid input. Please enter a valid quantity.\")\n",
    "    return inventory\n",
    "```\n",
    "\n",
    "Let's enhance your code by implementing error handling to handle invalid inputs.\n",
    "\n",
    "Follow the steps below to complete the exercise:\n",
    "\n",
    "2. Modify the `calculate_total_price` function to include error handling.\n",
    "   - If the user enters an invalid price (e.g., a negative value or a non-numeric value), display an error message and ask them to re-enter the price for that product.\n",
    "   - Use a try-except block to handle the error and continue prompting the user until a valid price is entered.\n",
    "\n",
    "3. Modify the `get_customer_orders` function to include error handling.\n",
    "   - If the user enters an invalid number of orders (e.g., a negative value or a non-numeric value), display an error message and ask them to re-enter the number of orders.\n",
    "   - If the user enters an invalid product name (e.g., a product name that is not in the inventory), or that doesn't have stock available, display an error message and ask them to re-enter the product name. *Hint: you will need to pass inventory as a parameter*\n",
    "   - Use a try-except block to handle the error and continue prompting the user until a valid product name is entered.\n",
    "\n",
    "4. Test your code by running the program and deliberately entering invalid quantities and product names. Make sure the error handling mechanism works as expected.\n"
   ]
  },
  {
   "cell_type": "code",
   "execution_count": null,
   "id": "ddd0bc1c",
   "metadata": {},
   "outputs": [],
   "source": [
    "#1\n",
    "\n",
    "products = [\"t-shirt\", \"mug\", \"hat\", \"book\", \"keychain\"]\n",
    "inventory = {}\n",
    "\n",
    "def initialize_inventory(products):\n",
    "    for product in products:\n",
    "        while True:\n",
    "            try:\n",
    "                stock = input(f'Please enter the stock for {product}: ')\n",
    "                if stock.isdigit() and int(stock) >= 0:\n",
    "                    inventory[product] = int(stock)\n",
    "                    break\n",
    "                else:\n",
    "                    print(\"Invalid input. Please enter a positive number.\")\n",
    "            except ValueError:\n",
    "                print(\"invaild input\")    \n",
    "initialize_inventory(products)\n",
    "print(inventory)"
   ]
  },
  {
   "cell_type": "code",
   "execution_count": 3,
   "id": "eb2a5f52",
   "metadata": {},
   "outputs": [
    {
     "data": {
      "text/plain": [
       "['mug', 'hat', 'book']"
      ]
     },
     "execution_count": 3,
     "metadata": {},
     "output_type": "execute_result"
    }
   ],
   "source": [
    "def get_customer_orders():\n",
    "    number_of_orders = input(\"pls enter how many order you would like to make\")\n",
    "    return [input(\"We have t-shirt, mug, hat, book, keychain. Please enter what you would like to order: \") for i in range(int(number_of_orders))]\n",
    "customer_orders =  get_customer_orders()\n",
    "customer_orders"
   ]
  },
  {
   "cell_type": "code",
   "execution_count": 6,
   "id": "72a43f67",
   "metadata": {},
   "outputs": [
    {
     "name": "stdout",
     "output_type": "stream",
     "text": [
      "it has to be a number above 0\n",
      "for mug the price is 3\n",
      "for hat the price is 5\n",
      "for book the price is 23\n",
      "total price for the order is 31\n"
     ]
    },
    {
     "data": {
      "text/plain": [
       "({'mug': 3, 'hat': 5, 'book': 23}, 31)"
      ]
     },
     "execution_count": 6,
     "metadata": {},
     "output_type": "execute_result"
    }
   ],
   "source": [
    "#2\n",
    "def print_the_price(customer_orders):\n",
    "    order_price = {}\n",
    "    total_price = 0\n",
    "    for products in customer_orders:\n",
    "        while True:\n",
    "            try:\n",
    "                each_price = int(input(f'pls enter the price of {products}'))\n",
    "                if each_price >= 0:\n",
    "                    order_price[products] = each_price\n",
    "                    total_price += each_price\n",
    "                    break\n",
    "                else:\n",
    "                    print(\"it has to be a number above 0\")\n",
    "            except ValueError:\n",
    "                print(\"the price has to be a number\")\n",
    "        print(f'for {products} the price is {each_price}')\n",
    "\n",
    "    print(f'total price for the order is {total_price}')\n",
    "    return order_price, total_price\n",
    " \n",
    "print_the_price(customer_orders)"
   ]
  },
  {
   "cell_type": "code",
   "execution_count": null,
   "id": "3e85eaac",
   "metadata": {},
   "outputs": [],
   "source": [
    "#3 \n",
    "get_customer_orders_quality1 = {}\n",
    "\n",
    "\n",
    "def get_customer_orders_quality(inventory):\n",
    "    while True:\n",
    "        try:\n",
    "            order_item = input(\"We have t-shirt, mug, hat, book, keychain. Please enter what you would like to order: \")\n",
    "            if order_item in inventory:\n",
    "                try:\n",
    "                    order_quality = int(input(\"pls enter the quality of the product you want to order\")) >= 0\n",
    "                    get_customer_orders_quality1[order_item] = order_quality\n",
    "                    else:\n",
    "                    print(\"it has to be a number above 0\")\n",
    "                \n",
    "                more = input(\"Would you like to order another product? (yes/no): \")\n",
    "                if more.lower() != 'yes':\n",
    "                    break\n",
    "            \n",
    "         \n",
    "\n",
    "            else:\n",
    "                print(f'{order_item} is not a valid product in our inventory, you can only order t-shirt, mug, hat, book, keychain.')\n",
    "        except:\n",
    "            print(\"\")\n",
    "            \n",
    "    return cget_customer_orders_quality1\n",
    "\n",
    "get_customer_orders_quality1 = get_customer_orders_quality(inventory)\n",
    "print(customer_orders)\n"
   ]
  },
  {
   "cell_type": "code",
   "execution_count": null,
   "id": "84fbc372",
   "metadata": {},
   "outputs": [],
   "source": []
  }
 ],
 "metadata": {
  "kernelspec": {
   "display_name": "Python 3 (ipykernel)",
   "language": "python",
   "name": "python3"
  },
  "language_info": {
   "codemirror_mode": {
    "name": "ipython",
    "version": 3
   },
   "file_extension": ".py",
   "mimetype": "text/x-python",
   "name": "python",
   "nbconvert_exporter": "python",
   "pygments_lexer": "ipython3",
   "version": "3.11.3"
  }
 },
 "nbformat": 4,
 "nbformat_minor": 5
}
